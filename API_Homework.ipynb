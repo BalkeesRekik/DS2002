{
  "nbformat": 4,
  "nbformat_minor": 0,
  "metadata": {
    "colab": {
      "provenance": [],
      "toc_visible": true,
      "authorship_tag": "ABX9TyPhsYRfCNnLrOut3BysXamz",
      "include_colab_link": true
    },
    "kernelspec": {
      "name": "python3",
      "display_name": "Python 3"
    },
    "language_info": {
      "name": "python"
    }
  },
  "cells": [
    {
      "cell_type": "markdown",
      "metadata": {
        "id": "view-in-github",
        "colab_type": "text"
      },
      "source": [
        "<a href=\"https://colab.research.google.com/github/BalkeesRekik/DS2002/blob/main/API_Homework.ipynb\" target=\"_parent\"><img src=\"https://colab.research.google.com/assets/colab-badge.svg\" alt=\"Open In Colab\"/></a>"
      ]
    },
    {
      "cell_type": "code",
      "source": [
        "import requests\n",
        "import json\n",
        "import pandas as pd\n",
        "\n",
        "def get_stock_data(stock):\n",
        "    apikey = \"WFLPYCLI492lK2Txe3sj27blEm5bQe9fevJ4Wm20\"\n",
        "    url = \"https://yfapi.net/v6/finance/quote\"\n",
        "    querystring = {\"symbols\": stock}\n",
        "    headers = {\n",
        "        'x-api-key': apikey\n",
        "    }\n",
        "\n",
        "    response = requests.get(url, headers=headers, params=querystring)\n",
        "\n",
        "    if response.status_code == 200:\n",
        "        stock_json = response.json()\n",
        "        if stock_json['quoteResponse']['result']:\n",
        "            return stock_json['quoteResponse']['result'][0]\n",
        "        else:\n",
        "            print(f\"No data found for ticker {stock}. Please check the symbol.\")\n",
        "            return None\n",
        "    else:\n",
        "        print(f\"Error: Unable to fetch data. Status code: {response.status_code}\")\n",
        "        return None\n",
        "\n",
        "def get_trending_stocks():\n",
        "    apikey = \"WFLPYCLI492lK2Txe3sj27blEm5bQe9fevJ4Wm20\"\n",
        "    url = \"https://yfapi.net/v1/finance/trending/US\"\n",
        "\n",
        "    headers = {\n",
        "        'x-api-key': apikey\n",
        "    }\n",
        "\n",
        "    response = requests.get(url, headers=headers)\n",
        "\n",
        "    if response.status_code == 200:\n",
        "        trending_json = response.json()\n",
        "        return trending_json['finance']['result'][0]['quotes'][:5]  # Top 5 trending stocks\n",
        "    else:\n",
        "        print(\"Error fetching trending stocks\")\n",
        "        return []\n",
        "\n",
        "def main():\n",
        "    stock = input(\"Enter the stock ticker: \").upper()\n",
        "    print(f\"The Stock we will research is: {stock}\")\n",
        "\n",
        "    stock_info = get_stock_data(stock)\n",
        "\n",
        "    if stock_info:\n",
        "        long_name = stock_info.get('longName', 'N/A')\n",
        "        market_price = stock_info.get('regularMarketPrice', 'N/A')\n",
        "        target_mean_price = stock_info.get('targetMeanPrice', 'N/A')\n",
        "        fifty_two_week_high = stock_info.get('fiftyTwoWeekHigh', 'N/A')\n",
        "        fifty_two_week_low = stock_info.get('fiftyTwoWeekLow', 'N/A')\n",
        "\n",
        "        print(f\"{long_name} Price: ${market_price}\")\n",
        "        print(f\"Target Mean Price: ${target_mean_price}\")\n",
        "        print(f\"52 Week High: ${fifty_two_week_high}\")\n",
        "        print(f\"52 Week Low: ${fifty_two_week_low}\")\n",
        "\n",
        "        data = {\n",
        "            'Ticker': [stock],\n",
        "            'Name': [long_name],\n",
        "            'Market Price': [market_price],\n",
        "            'Target Mean Price': [target_mean_price],\n",
        "            '52 Week High': [fifty_two_week_high],\n",
        "            '52 Week Low': [fifty_two_week_low]\n",
        "        }\n",
        "\n",
        "        df = pd.DataFrame(data)\n",
        "\n",
        "        df.to_csv(f'{stock}_stock_data.csv', index=False)\n",
        "        print(f\"Data saved to {stock}_stock_data.csv\")\n",
        "\n",
        "    trending_stocks = get_trending_stocks()\n",
        "    if trending_stocks:\n",
        "        print(\"\\nTop 5 Trending Stocks:\")\n",
        "        for i, trending in enumerate(trending_stocks):\n",
        "            print(f\"{i+1}. {trending['symbol']}\")\n",
        "\n",
        "if __name__ == \"__main__\":\n",
        "    main()\n"
      ],
      "metadata": {
        "colab": {
          "base_uri": "https://localhost:8080/"
        },
        "id": "jrEGhdFSgcpE",
        "outputId": "39624e77-343b-4037-ed79-2c7512b979ff"
      },
      "execution_count": 18,
      "outputs": [
        {
          "output_type": "stream",
          "name": "stdout",
          "text": [
            "Enter the stock ticker: AAPL\n",
            "The Stock we will research is: AAPL\n",
            "Apple Inc. Price: $227.725\n",
            "Target Mean Price: $N/A\n",
            "52 Week High: $237.23\n",
            "52 Week Low: $164.08\n",
            "Data saved to AAPL_stock_data.csv\n",
            "\n",
            "Top 5 Trending Stocks:\n",
            "1. NQ=F\n",
            "2. ES=F\n",
            "3. YM=F\n",
            "4. AMSC\n",
            "5. GC=F\n"
          ]
        }
      ]
    }
  ]
}
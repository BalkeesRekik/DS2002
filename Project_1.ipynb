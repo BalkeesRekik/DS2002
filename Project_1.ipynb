{
  "nbformat": 4,
  "nbformat_minor": 0,
  "metadata": {
    "colab": {
      "provenance": [],
      "authorship_tag": "ABX9TyPU771GW2/iNIqB9lIBMq8I",
      "include_colab_link": true
    },
    "kernelspec": {
      "name": "python3",
      "display_name": "Python 3"
    },
    "language_info": {
      "name": "python"
    }
  },
  "cells": [
    {
      "cell_type": "markdown",
      "metadata": {
        "id": "view-in-github",
        "colab_type": "text"
      },
      "source": [
        "<a href=\"https://colab.research.google.com/github/BalkeesRekik/DS2002/blob/main/Project_1.ipynb\" target=\"_parent\"><img src=\"https://colab.research.google.com/assets/colab-badge.svg\" alt=\"Open In Colab\"/></a>"
      ]
    },
    {
      "cell_type": "code",
      "execution_count": 8,
      "metadata": {
        "id": "FjeOHMCMsNg0",
        "colab": {
          "base_uri": "https://localhost:8080/"
        },
        "outputId": "1ade1c00-0849-4e06-b4c0-ed677e72a88e"
      },
      "outputs": [
        {
          "output_type": "stream",
          "name": "stdout",
          "text": [
            "Data successfully converted to JSON and saved to all_weekly_excess_deaths.json\n",
            "Data successfully stored in SQLite database 'covid_data.db'.\n",
            "Before Processing - Number of Records: 5770, Number of Columns: 17\n",
            "After Processing - Number of Records: 5770, Number of Columns: 16\n"
          ]
        }
      ],
      "source": [
        "import pandas as pd\n",
        "import sqlite3\n",
        "\n",
        "file_path = '/content/all_weekly_excess_deaths.csv'\n",
        "df = pd.read_csv(file_path)\n",
        "df.head()\n",
        "\n",
        "json_output_path = 'all_weekly_excess_deaths.json'\n",
        "df.to_json(json_output_path, orient='records')\n",
        "\n",
        "print(f\"Data successfully converted to JSON and saved to {json_output_path}\")\n",
        "\n",
        "df_modified = df.drop(columns=['non_covid_deaths'], errors='ignore')\n",
        "\n",
        "conn = sqlite3.connect('covid_data.db')\n",
        "df_modified.to_sql('covid_table', conn, if_exists='replace', index=False)\n",
        "conn.close()\n",
        "\n",
        "print(\"Data successfully stored in SQLite database 'covid_data.db'.\")\n",
        "\n",
        "print(f\"Before Processing - Number of Records: {df.shape[0]}, Number of Columns: {df.shape[1]}\")\n",
        "print(f\"After Processing - Number of Records: {df_modified.shape[0]}, Number of Columns: {df_modified.shape[1]}\")\n"
      ]
    }
  ]
}